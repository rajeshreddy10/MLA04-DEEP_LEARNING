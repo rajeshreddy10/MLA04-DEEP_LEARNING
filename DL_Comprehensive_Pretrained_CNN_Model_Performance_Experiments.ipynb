{
  "nbformat": 4,
  "nbformat_minor": 0,
  "metadata": {
    "colab": {
      "provenance": [],
      "authorship_tag": "ABX9TyOVyhUtLNbGVrlRCHOIwUv3",
      "include_colab_link": true
    },
    "kernelspec": {
      "name": "python3",
      "display_name": "Python 3"
    },
    "language_info": {
      "name": "python"
    }
  },
  "cells": [
    {
      "cell_type": "markdown",
      "metadata": {
        "id": "view-in-github",
        "colab_type": "text"
      },
      "source": [
        "<a href=\"https://colab.research.google.com/github/rajeshreddy10/MLA04-DEEP_LEARNING/blob/main/DL_Comprehensive_Pretrained_CNN_Model_Performance_Experiments.ipynb\" target=\"_parent\"><img src=\"https://colab.research.google.com/assets/colab-badge.svg\" alt=\"Open In Colab\"/></a>"
      ]
    },
    {
      "cell_type": "markdown",
      "source": [
        "9. Using a Python code implementation, demonstrate the performance of pre-trained ResNet101V2 model using a chosen data of your choice. Assign the following values for the model: Use a data split of: 7:1.5:1.5 (Training:Validation:Testing); Optimizer: SGD; Pooling: avg; Epochs: 25, Initial Activation: PReLU, Final Activation: SoftMax. Draw and discuss the attained results."
      ],
      "metadata": {
        "id": "xlJQBXB6paKu"
      }
    },
    {
      "cell_type": "code",
      "source": [
        "import tensorflow as tf\n",
        "from tensorflow.keras.datasets import cifar10\n",
        "from tensorflow.keras.applications import ResNet101V2\n",
        "from tensorflow.keras.layers import Dense, GlobalAveragePooling2D\n",
        "from tensorflow.keras.models import Model\n",
        "from tensorflow.keras.optimizers import SGD\n",
        "from sklearn.model_selection import train_test_split\n",
        "\n",
        "\n",
        "(x_train, y_train), (x_test, y_test) = cifar10.load_data()\n",
        "\n",
        "# Normalize pixel values\n",
        "x_train = x_train.astype(\"float32\") / 255.0\n",
        "x_test = x_test.astype(\"float32\") / 255.0\n",
        "\n",
        "# One-hot encode labels\n",
        "y_train = tf.keras.utils.to_categorical(y_train, 10)\n",
        "y_test = tf.keras.utils.to_categorical(y_test, 10)\n",
        "\n",
        "# Resize to ResNet expected size (224x224)\n",
        "IMG_SHAPE = (224, 224, 3)\n",
        "x_train_resized = tf.image.resize(x_train, (IMG_SHAPE[0], IMG_SHAPE[1]))\n",
        "x_test_resized = tf.image.resize(x_test, (IMG_SHAPE[0], IMG_SHAPE[1]))\n",
        "\n",
        "# Train/Val split (≈70% train, 15% val)\n",
        "x_train, x_val, y_train, y_val = train_test_split(\n",
        "    x_train_resized, y_train, test_size=0.176, random_state=42\n",
        ")\n",
        "\n",
        "print(f\"Training samples: {len(x_train)}\")\n",
        "print(f\"Validation samples: {len(x_val)}\")\n",
        "print(f\"Testing samples: {len(x_test_resized)}\")\n",
        "\n",
        "from tensorflow.keras.preprocessing.image import ImageDataGenerator\n",
        "\n",
        "datagen = ImageDataGenerator(\n",
        "    rotation_range=15,\n",
        "    width_shift_range=0.1,\n",
        "    height_shift_range=0.1,\n",
        "    horizontal_flip=True,\n",
        ")\n",
        "datagen.fit(x_train)\n",
        "\n",
        "base_model = ResNet101V2(weights=\"imagenet\", include_top=False, input_shape=IMG_SHAPE)\n",
        "\n",
        "x = base_model.output\n",
        "x = GlobalAveragePooling2D(name=\"avg_pooling\")(x)\n",
        "x = Dense(256, activation=\"relu\")(x)\n",
        "predictions = Dense(10, activation=\"softmax\", name=\"final_output\")(x)\n",
        "\n",
        "model = Model(inputs=base_model.input, outputs=predictions)\n",
        "\n",
        "for layer in base_model.layers:\n",
        "    layer.trainable = False\n",
        "\n",
        "optimizer = SGD(learning_rate=0.01, momentum=0.9)\n",
        "model.compile(optimizer=optimizer, loss=\"categorical_crossentropy\", metrics=[\"accuracy\"])\n",
        "\n",
        "print(\"\\n--- Phase 1 Training (Frozen base) ---\")\n",
        "history1 = model.fit(\n",
        "    datagen.flow(x_train, y_train, batch_size=32),\n",
        "    validation_data=(x_val, y_val),\n",
        "    epochs=10,\n",
        "    verbose=1,\n",
        ")\n",
        "\n",
        "for layer in base_model.layers[-100:]:\n",
        "    layer.trainable = True\n",
        "\n",
        "optimizer = SGD(learning_rate=0.0001, momentum=0.9)\n",
        "model.compile(optimizer=optimizer, loss=\"categorical_crossentropy\", metrics=[\"accuracy\"])\n",
        "\n",
        "print(\"\\n--- Phase 2 Training (Fine-tuning) ---\")\n",
        "history2 = model.fit(\n",
        "    datagen.flow(x_train, y_train, batch_size=32),\n",
        "    validation_data=(x_val, y_val),\n",
        "    epochs=15,\n",
        "    verbose=1,\n",
        ")\n",
        "\n",
        "test_loss, test_acc = model.evaluate(x_test_resized, y_test, verbose=1)\n",
        "print(f\"\\n✅ Test Accuracy: {test_acc * 100:.2f}%\")\n"
      ],
      "metadata": {
        "id": "somFrCl-pvlZ"
      },
      "execution_count": null,
      "outputs": []
    },
    {
      "cell_type": "markdown",
      "source": [
        "MobileNet (8:1:1, Adam, ReLU → SoftMax)"
      ],
      "metadata": {
        "id": "iaDL1mr9qSTI"
      }
    },
    {
      "cell_type": "code",
      "source": [
        "import tensorflow as tf\n",
        "from tensorflow.keras.applications import MobileNet\n",
        "from tensorflow.keras.layers import Dense, GlobalAveragePooling2D\n",
        "from tensorflow.keras.models import Model\n",
        "from tensorflow.keras.preprocessing.image import ImageDataGenerator\n",
        "\n",
        "# Load CIFAR-10 dataset\n",
        "(x_train, y_train), (x_test, y_test) = tf.keras.datasets.cifar10.load_data()\n",
        "\n",
        "# Normalize\n",
        "x_train, x_test = x_train/255.0, x_test/255.0\n",
        "\n",
        "# Split: 8:1:1\n",
        "val_split = int(0.1 * x_train.shape[0])\n",
        "x_val = x_train[:val_split]; y_val = y_train[:val_split]\n",
        "x_train_new = x_train[val_split:]; y_train_new = y_train[val_split:]\n",
        "\n",
        "# Data augmentation\n",
        "train_gen = ImageDataGenerator(rotation_range=20, width_shift_range=0.2,\n",
        "                               height_shift_range=0.2, horizontal_flip=True)\n",
        "val_gen = ImageDataGenerator()\n",
        "test_gen = ImageDataGenerator()\n",
        "\n",
        "# Load MobileNet\n",
        "base_model = MobileNet(weights='imagenet', include_top=False, input_shape=(32,32,3))\n",
        "x = base_model.output\n",
        "x = GlobalAveragePooling2D()(x)\n",
        "preds = Dense(10, activation='softmax')(x)\n",
        "model = Model(inputs=base_model.input, outputs=preds)\n",
        "\n",
        "# Compile\n",
        "model.compile(optimizer='adam', loss='sparse_categorical_crossentropy', metrics=['accuracy'])\n",
        "\n",
        "# Train\n",
        "model.fit(train_gen.flow(x_train_new, y_train_new, batch_size=32),\n",
        "          validation_data=val_gen.flow(x_val, y_val),\n",
        "          epochs=25)\n",
        "\n",
        "# Evaluate\n",
        "loss, acc = model.evaluate(test_gen.flow(x_test, y_test))\n",
        "print(f\"Test Accuracy: {acc:.4f}\")\n"
      ],
      "metadata": {
        "colab": {
          "base_uri": "https://localhost:8080/"
        },
        "id": "BujcyN3eqBUg",
        "outputId": "4c03c8cc-cc1d-4eaa-a30c-0fd5b1d78090"
      },
      "execution_count": null,
      "outputs": [
        {
          "metadata": {
            "tags": null
          },
          "name": "stderr",
          "output_type": "stream",
          "text": [
            "/tmp/ipython-input-3850953900.py:25: UserWarning: `input_shape` is undefined or non-square, or `rows` is not in [128, 160, 192, 224]. Weights for input shape (224, 224) will be loaded as the default.\n",
            "  base_model = MobileNet(weights='imagenet', include_top=False, input_shape=(32,32,3))\n"
          ]
        },
        {
          "metadata": {
            "tags": null
          },
          "name": "stdout",
          "output_type": "stream",
          "text": [
            "Downloading data from https://storage.googleapis.com/tensorflow/keras-applications/mobilenet/mobilenet_1_0_224_tf_no_top.h5\n",
            "\u001b[1m17225924/17225924\u001b[0m \u001b[32m━━━━━━━━━━━━━━━━━━━━\u001b[0m\u001b[37m\u001b[0m \u001b[1m0s\u001b[0m 0us/step\n",
            "Epoch 1/25\n"
          ]
        },
        {
          "metadata": {
            "tags": null
          },
          "name": "stderr",
          "output_type": "stream",
          "text": [
            "/usr/local/lib/python3.12/dist-packages/keras/src/trainers/data_adapters/py_dataset_adapter.py:121: UserWarning: Your `PyDataset` class should call `super().__init__(**kwargs)` in its constructor. `**kwargs` can include `workers`, `use_multiprocessing`, `max_queue_size`. Do not pass these arguments to `fit()`, as they will be ignored.\n",
            "  self._warn_if_super_not_called()\n"
          ]
        },
        {
          "output_type": "stream",
          "name": "stdout",
          "text": [
            "\u001b[1m1407/1407\u001b[0m \u001b[32m━━━━━━━━━━━━━━━━━━━━\u001b[0m\u001b[37m\u001b[0m \u001b[1m483s\u001b[0m 331ms/step - accuracy: 0.4212 - loss: 1.8162 - val_accuracy: 0.4684 - val_loss: 1.8162\n",
            "Epoch 2/25\n",
            "\u001b[1m  41/1407\u001b[0m \u001b[37m━━━━━━━━━━━━━━━━━━━━\u001b[0m \u001b[1m7:24\u001b[0m 325ms/step - accuracy: 0.5349 - loss: 1.3275"
          ]
        }
      ]
    },
    {
      "cell_type": "markdown",
      "source": [
        "AlexNet (7:1.5:1.5, SGD, PReLU → SoftMax)"
      ],
      "metadata": {
        "id": "1McLEEnPqVDf"
      }
    },
    {
      "cell_type": "code",
      "source": [
        "from tensorflow.keras.layers import Conv2D, MaxPooling2D, Flatten, Dropout, PReLU, Dense\n",
        "from tensorflow.keras.optimizers import SGD\n",
        "from sklearn.model_selection import train_test_split\n",
        "import tensorflow as tf\n",
        "\n",
        "# CIFAR-10 dataset\n",
        "(x, y), (x_test, y_test) = tf.keras.datasets.cifar10.load_data()\n",
        "x = x/255.0; x_test = x_test/255.0\n",
        "\n",
        "# Split 7:1.5:1.5\n",
        "x_train, x_val, y_train, y_val = train_test_split(x, y, test_size=0.3, random_state=42)\n",
        "x_val, x_test_new, y_val, y_test_new = train_test_split(x_val, y_test, test_size=0.5, random_state=42)\n",
        "\n",
        "# AlexNet model\n",
        "inputs = tf.keras.Input(shape=(32,32,3))\n",
        "x = Conv2D(96, (3,3), strides=1, padding='same')(inputs)\n",
        "x = PReLU()(x)\n",
        "x = MaxPooling2D((2,2))(x)\n",
        "\n",
        "x = Conv2D(256, (3,3), padding='same')(x)\n",
        "x = PReLU()(x)\n",
        "x = MaxPooling2D((2,2))(x)\n",
        "\n",
        "x = Conv2D(384, (3,3), padding='same')(x)\n",
        "x = PReLU()(x)\n",
        "x = Conv2D(384, (3,3), padding='same')(x)\n",
        "x = PReLU()(x)\n",
        "x = Conv2D(256, (3,3), padding='same')(x)\n",
        "x = PReLU()(x)\n",
        "x = MaxPooling2D((2,2))(x)\n",
        "\n",
        "x = Flatten()(x)\n",
        "x = Dense(4096)(x); x = PReLU()(x); x = Dropout(0.5)(x)\n",
        "x = Dense(4096)(x); x = PReLU()(x); x = Dropout(0.5)(x)\n",
        "outputs = Dense(10, activation='softmax')(x)\n",
        "\n",
        "model = tf.keras.Model(inputs, outputs)\n",
        "model.compile(optimizer=SGD(), loss='sparse_categorical_crossentropy', metrics=['accuracy'])\n",
        "\n",
        "# Train\n",
        "model.fit(x_train, y_train, validation_data=(x_val, y_val), epochs=25, batch_size=32)\n",
        "\n",
        "# Evaluate\n",
        "loss, acc = model.evaluate(x_test_new, y_test_new)\n",
        "print(f\"Test Accuracy: {acc:.4f}\")\n"
      ],
      "metadata": {
        "id": "0n7sF3hfqCyX"
      },
      "execution_count": null,
      "outputs": []
    },
    {
      "cell_type": "markdown",
      "source": [
        "EfficientNetB0 (8:1:1, Adam, ReLU → SoftMax)"
      ],
      "metadata": {
        "id": "DCjUWV0qqczi"
      }
    },
    {
      "cell_type": "code",
      "source": [
        "from tensorflow.keras.applications import EfficientNetB0\n",
        "from tensorflow.keras.layers import GlobalAveragePooling2D, Dense\n",
        "from tensorflow.keras.models import Model\n",
        "\n",
        "# CIFAR-10 data\n",
        "(x_train, y_train), (x_test, y_test) = tf.keras.datasets.cifar10.load_data()\n",
        "x_train, x_test = x_train/255.0, x_test/255.0\n",
        "\n",
        "# Split 8:1:1\n",
        "val_split = int(0.1*x_train.shape[0])\n",
        "x_val, y_val = x_train[:val_split], y_train[:val_split]\n",
        "x_train_new, y_train_new = x_train[val_split:], y_train[val_split:]\n",
        "\n",
        "# Model\n",
        "base_model = EfficientNetB0(weights='imagenet', include_top=False, input_shape=(32,32,3))\n",
        "x = base_model.output\n",
        "x = GlobalAveragePooling2D()(x)\n",
        "preds = Dense(10, activation='softmax')(x)\n",
        "model = Model(inputs=base_model.input, outputs=preds)\n",
        "\n",
        "# Compile\n",
        "model.compile(optimizer='adam', loss='sparse_categorical_crossentropy', metrics=['accuracy'])\n",
        "\n",
        "# Train\n",
        "model.fit(x_train_new, y_train_new, validation_data=(x_val, y_val), epochs=25, batch_size=32)\n",
        "\n",
        "# Evaluate\n",
        "loss, acc = model.evaluate(x_test, y_test)\n",
        "print(f\"Test Accuracy: {acc:.4f}\")\n"
      ],
      "metadata": {
        "id": "OAKfb1PiqC79"
      },
      "execution_count": null,
      "outputs": []
    },
    {
      "cell_type": "markdown",
      "source": [
        "EfficientNetB2 (7:1.5:1.5, SGD, PReLU → SoftMax)"
      ],
      "metadata": {
        "id": "9chRr35aqibD"
      }
    },
    {
      "cell_type": "code",
      "source": [
        "from tensorflow.keras.applications import EfficientNetB2\n",
        "from tensorflow.keras.layers import GlobalAveragePooling2D, Dense, PReLU\n",
        "from tensorflow.keras.models import Model\n",
        "from tensorflow.keras.optimizers import SGD\n",
        "from sklearn.model_selection import train_test_split\n",
        "import tensorflow as tf\n",
        "\n",
        "(x, y), (x_test, y_test) = tf.keras.datasets.cifar10.load_data()\n",
        "x, x_test = x/255.0, x_test/255.0\n",
        "\n",
        "# Split 7:1.5:1.5\n",
        "x_train, x_val, y_train, y_val = train_test_split(x, y, test_size=0.3, random_state=42)\n",
        "x_val, x_test_new, y_val, y_test_new = train_test_split(x_val, y_test, test_size=0.5, random_state=42)\n",
        "\n",
        "base_model = EfficientNetB2(weights='imagenet', include_top=False, input_shape=(32,32,3))\n",
        "x_layer = base_model.output\n",
        "x_layer = GlobalAveragePooling2D()(x_layer)\n",
        "x_layer = Dense(10)(x_layer)\n",
        "x_layer = PReLU()(x_layer)\n",
        "outputs = Dense(10, activation='softmax')(x_layer)\n",
        "\n",
        "model = Model(inputs=base_model.input, outputs=outputs)\n",
        "model.compile(optimizer=SGD(), loss='sparse_categorical_crossentropy', metrics=['accuracy'])\n",
        "\n",
        "# Train\n",
        "model.fit(x_train, y_train, validation_data=(x_val, y_val), epochs=25, batch_size=32)\n",
        "\n",
        "# Evaluate\n",
        "loss, acc = model.evaluate(x_test_new, y_test_new)\n",
        "print(f\"Test Accuracy: {acc:.4f}\")\n"
      ],
      "metadata": {
        "id": "VouGybnaqDG0"
      },
      "execution_count": null,
      "outputs": []
    },
    {
      "cell_type": "markdown",
      "source": [
        " DenseNet121 (8:1:1, Adam, ReLU → SoftMax)"
      ],
      "metadata": {
        "id": "nWAj6Qxqql1D"
      }
    },
    {
      "cell_type": "code",
      "source": [
        "from tensorflow.keras.applications import DenseNet121\n",
        "from tensorflow.keras.layers import GlobalAveragePooling2D, Dense\n",
        "from tensorflow.keras.models import Model\n",
        "import tensorflow as tf\n",
        "\n",
        "(x_train, y_train), (x_test, y_test) = tf.keras.datasets.cifar10.load_data()\n",
        "x_train, x_test = x_train/255.0, x_test/255.0\n",
        "\n",
        "# Split 8:1:1\n",
        "val_split = int(0.1 * x_train.shape[0])\n",
        "x_val, y_val = x_train[:val_split], y_train[:val_split]\n",
        "x_train_new, y_train_new = x_train[val_split:], y_train[val_split:]\n",
        "\n",
        "base_model = DenseNet121(weights='imagenet', include_top=False, input_shape=(32,32,3))\n",
        "x = base_model.output\n",
        "x = GlobalAveragePooling2D()(x)\n",
        "preds = Dense(10, activation='softmax')(x)\n",
        "model = Model(inputs=base_model.input, outputs=preds)\n",
        "\n",
        "# Compile\n",
        "model.compile(optimizer='adam', loss='sparse_categorical_crossentropy', metrics=['accuracy'])\n",
        "\n",
        "# Train\n",
        "model.fit(x_train_new, y_train_new, validation_data=(x_val, y_val), epochs=25, batch_size=32)\n",
        "\n",
        "# Evaluate\n",
        "loss, acc = model.evaluate(x_test, y_test)\n",
        "print(f\"Test Accuracy: {acc:.4f}\")\n"
      ],
      "metadata": {
        "id": "wsQhWbmQqDQx"
      },
      "execution_count": null,
      "outputs": []
    },
    {
      "cell_type": "markdown",
      "source": [
        "MobileNet on Forest-Fire Database (7:1.5:1.5, SGD, PReLU → SoftMax)"
      ],
      "metadata": {
        "id": "_OuFO3O7qm3Z"
      }
    },
    {
      "cell_type": "code",
      "source": [
        "import tensorflow as tf\n",
        "from tensorflow.keras.applications import MobileNet\n",
        "from tensorflow.keras.layers import Dense, GlobalAveragePooling2D, PReLU\n",
        "from tensorflow.keras.models import Model\n",
        "from tensorflow.keras.preprocessing.image import ImageDataGenerator\n",
        "from tensorflow.keras.optimizers import SGD\n",
        "\n",
        "# Load Forest-Fire dataset from GitHub\n",
        "!git clone https://github.com/username/Forest-Fire-Dataset.git  # Replace with actual repo\n",
        "data_dir = './Forest-Fire-Dataset/'\n",
        "\n",
        "# Data generators with augmentation\n",
        "train_datagen = ImageDataGenerator(rescale=1./255, validation_split=0.3)\n",
        "train_gen = train_datagen.flow_from_directory(data_dir, target_size=(128,128), batch_size=32,\n",
        "                                              class_mode='categorical', subset='training')\n",
        "val_gen = train_datagen.flow_from_directory(data_dir, target_size=(128,128), batch_size=32,\n",
        "                                            class_mode='categorical', subset='validation')\n",
        "\n",
        "# Load MobileNet base\n",
        "base_model = MobileNet(weights='imagenet', include_top=False, input_shape=(128,128,3))\n",
        "x = base_model.output\n",
        "x = GlobalAveragePooling2D()(x)\n",
        "x = Dense(train_gen.num_classes)(x)\n",
        "x = PReLU()(x)\n",
        "outputs = Dense(train_gen.num_classes, activation='softmax')(x)\n",
        "\n",
        "model = Model(inputs=base_model.input, outputs=outputs)\n",
        "\n",
        "# Compile\n",
        "model.compile(optimizer=SGD(), loss='categorical_crossentropy', metrics=['accuracy'])\n",
        "\n",
        "# Train\n",
        "model.fit(train_gen, validation_data=val_gen, epochs=25)\n",
        "\n",
        "# Evaluate\n",
        "loss, acc = model.evaluate(val_gen)\n",
        "print(f\"Validation Accuracy: {acc:.4f}\")\n"
      ],
      "metadata": {
        "id": "2ouNPuRIqDbY"
      },
      "execution_count": null,
      "outputs": []
    },
    {
      "cell_type": "markdown",
      "source": [
        " DenseNet169 on Forest-Fire Database (8:1:1, Adam, ReLU → SoftMax)"
      ],
      "metadata": {
        "id": "QL3epBegqnW3"
      }
    },
    {
      "cell_type": "code",
      "source": [
        "from tensorflow.keras.applications import DenseNet169\n",
        "from tensorflow.keras.layers import Dense, GlobalAveragePooling2D\n",
        "from tensorflow.keras.models import Model\n",
        "from tensorflow.keras.preprocessing.image import ImageDataGenerator\n",
        "from tensorflow.keras.optimizers import Adam\n",
        "\n",
        "# Data generators\n",
        "train_datagen = ImageDataGenerator(rescale=1./255, validation_split=0.2)\n",
        "train_gen = train_datagen.flow_from_directory(data_dir, target_size=(128,128), batch_size=32,\n",
        "                                              class_mode='categorical', subset='training')\n",
        "val_gen = train_datagen.flow_from_directory(data_dir, target_size=(128,128), batch_size=32,\n",
        "                                            class_mode='categorical', subset='validation')\n",
        "\n",
        "# DenseNet169 model\n",
        "base_model = DenseNet169(weights='imagenet', include_top=False, input_shape=(128,128,3))\n",
        "x = base_model.output\n",
        "x = GlobalAveragePooling2D()(x)\n",
        "preds = Dense(train_gen.num_classes, activation='softmax')(x)\n",
        "model = Model(inputs=base_model.input, outputs=preds)\n",
        "\n",
        "# Compile\n",
        "model.compile(optimizer=Adam(), loss='categorical_crossentropy', metrics=['accuracy'])\n",
        "\n",
        "# Train\n",
        "model.fit(train_gen, validation_data=val_gen, epochs=25)\n",
        "\n",
        "# Evaluate\n",
        "loss, acc = model.evaluate(val_gen)\n",
        "print(f\"Validation Accuracy: {acc:.4f}\")\n"
      ],
      "metadata": {
        "id": "dYnaDfFyqDmX"
      },
      "execution_count": null,
      "outputs": []
    },
    {
      "cell_type": "markdown",
      "source": [
        "ResNet50 on Plant Leaf Disease Database (Default parameters, compute metrics)"
      ],
      "metadata": {
        "id": "uCM0ShmAqnwp"
      }
    },
    {
      "cell_type": "code",
      "source": [
        "from tensorflow.keras.applications import ResNet50\n",
        "from tensorflow.keras.layers import Dense, GlobalAveragePooling2D\n",
        "from tensorflow.keras.models import Model\n",
        "from tensorflow.keras.preprocessing.image import ImageDataGenerator\n",
        "from sklearn.metrics import classification_report, confusion_matrix\n",
        "import numpy as np\n",
        "\n",
        "# Load Plant Leaf Disease dataset\n",
        "!git clone https://github.com/username/Plant-Leaf-Disease-Dataset.git  # Replace with actual repo\n",
        "data_dir = './Plant-Leaf-Disease-Dataset/'\n",
        "\n",
        "# Data generators\n",
        "datagen = ImageDataGenerator(rescale=1./255, validation_split=0.2)\n",
        "train_gen = datagen.flow_from_directory(data_dir, target_size=(128,128), batch_size=32,\n",
        "                                        class_mode='categorical', subset='training')\n",
        "val_gen = datagen.flow_from_directory(data_dir, target_size=(128,128), batch_size=32,\n",
        "                                      class_mode='categorical', subset='validation')\n",
        "test_gen = datagen.flow_from_directory(data_dir, target_size=(128,128), batch_size=32,\n",
        "                                       class_mode='categorical', subset='validation', shuffle=False)\n",
        "\n",
        "# ResNet50 model\n",
        "base_model = ResNet50(weights='imagenet', include_top=False, input_shape=(128,128,3))\n",
        "x = base_model.output\n",
        "x = GlobalAveragePooling2D()(x)\n",
        "preds = Dense(train_gen.num_classes, activation='softmax')(x)\n",
        "model = Model(inputs=base_model.input, outputs=preds)\n",
        "\n",
        "model.compile(optimizer='adam', loss='categorical_crossentropy', metrics=['accuracy'])\n",
        "\n",
        "# Train\n",
        "model.fit(train_gen, validation_data=val_gen, epochs=10)\n",
        "\n",
        "# Predict and compute metrics\n",
        "y_pred = model.predict(test_gen)\n",
        "y_pred_classes = np.argmax(y_pred, axis=1)\n",
        "y_true = test_gen.classes\n",
        "\n",
        "print(classification_report(y_true, y_pred_classes))\n",
        "cm = confusion_matrix(y_true, y_pred_classes)\n",
        "print(\"Confusion Matrix:\\n\", cm)\n"
      ],
      "metadata": {
        "id": "73tbyrheqDze"
      },
      "execution_count": null,
      "outputs": []
    },
    {
      "cell_type": "markdown",
      "source": [
        "esNet101 on Forest-Fire Database (8:1:1, Adam, ReLU → SoftMax)"
      ],
      "metadata": {
        "id": "qGZkxxInqoI2"
      }
    },
    {
      "cell_type": "code",
      "source": [
        "from tensorflow.keras.applications import ResNet101\n",
        "from tensorflow.keras.layers import Dense, GlobalAveragePooling2D\n",
        "from tensorflow.keras.models import Model\n",
        "from tensorflow.keras.preprocessing.image import ImageDataGenerator\n",
        "from tensorflow.keras.optimizers import Adam\n",
        "\n",
        "# Data generators\n",
        "train_datagen = ImageDataGenerator(rescale=1./255, validation_split=0.2)\n",
        "train_gen = train_datagen.flow_from_directory(data_dir, target_size=(128,128), batch_size=32,\n",
        "                                              class_mode='categorical', subset='training')\n",
        "val_gen = train_datagen.flow_from_directory(data_dir, target_size=(128,128), batch_size=32,\n",
        "                                            class_mode='categorical', subset='validation')\n",
        "\n",
        "# ResNet101 model\n",
        "base_model = ResNet101(weights='imagenet', include_top=False, input_shape=(128,128,3))\n",
        "x = base_model.output\n",
        "x = GlobalAveragePooling2D()(x)\n",
        "preds = Dense(train_gen.num_classes, activation='softmax')(x)\n",
        "model = Model(inputs=base_model.input, outputs=preds)\n",
        "\n",
        "# Compile\n",
        "model.compile(optimizer=Adam(), loss='categorical_crossentropy', metrics=['accuracy'])\n",
        "\n",
        "# Train\n",
        "model.fit(train_gen, validation_data=val_gen, epochs=25)\n",
        "\n",
        "# Evaluate\n",
        "loss, acc = model.evaluate(val_gen)\n",
        "print(f\"Validation Accuracy: {acc:.4f}\")\n"
      ],
      "metadata": {
        "id": "yuDoz96YqFVL"
      },
      "execution_count": null,
      "outputs": []
    }
  ]
}